{
 "cells": [
  {
   "cell_type": "markdown",
   "metadata": {},
   "source": [
    "Финальный Проект\n",
    "---"
   ]
  },
  {
   "cell_type": "markdown",
   "metadata": {},
   "source": [
    "Пожалуйста, создайте пакет **education**, который содержит следующие модули:\n",
    "\n",
    "1. users\n",
    "2. organizations\n",
    "\n",
    "Когда вы запускаете пакет напрямую, он должен показывать все модули, указанные в пакете."
   ]
  },
  {
   "cell_type": "markdown",
   "metadata": {},
   "source": [
    "## Описание модулей приведено ниже:"
   ]
  },
  {
   "cell_type": "markdown",
   "metadata": {},
   "source": [
    "### Модуль **users** должен содержать классы **Human, Student(Human), Teacher(Human)**.\n",
    "\n",
    "1. Класс **Human** должен содержать следующую информацию: имя, фамилию, возраст, пол, национальность, а также способы задания этой информации.\n",
    " \n",
    ">``` \n",
    "> h1 = Human(name=\"John\", familyname=\"Wick\", age=35, gender=\"male\", nationality=\"USA\")\n",
    "> ``` \n",
    "\n",
    "Список методов:\n",
    "> ```\n",
    "set_name()\n",
    "set_family()\n",
    "set_age()\n",
    "set_gender()\n",
    "set_nationality()\n",
    "get_info() # возвращает словарь с личной информацией об объекте\n",
    "> ```\n",
    "\n",
    "2. Класс **Student** - это детский класс класса Human. Он должен содержать следующую информацию о каждом студенте: имя, фамилия, возраст, пол, национальность, название школы или университета, список предметов и соответствующие методы для установки этой информации.\n",
    "\n",
    "\n",
    "Список методов в дополнение к списку методов из родительского класса Human:\n",
    "> ```\n",
    "set_school()\n",
    "add_subject() # добавить предмет в список предметов\n",
    "> ```\n",
    "\n",
    "\n",
    "3. Класс **Teacher** - это детский класс класса Human. Он должен содержать следующую информацию о каждом преподавателе: имя, фамилия, возраст, пол, национальность, название школы или университета, предмет преподавания и соответствующие методы для установки этой информации.\n",
    "\n",
    "Список методов в дополнение к списку методов из родительского класса Human:\n",
    "> ```\n",
    "set_school()\n",
    "add_subject() # добавить предмет преподаваемый учителем\n",
    "> ```\n",
    "\n",
    "* При непосредственном запуске модуля **users** напрямую должен отображаться список классов, а также списки методов соответствующих классов, приведенных в модуле.\n",
    "\n",
    "* Когда вы импортируете модуль, он должен показать, что модуль был успешно импортирован.\n",
    "\n",
    "---"
   ]
  },
  {
   "cell_type": "markdown",
   "metadata": {},
   "source": [
    "### Модуль **organizations** должен содержать класс **School**.\n",
    "\n",
    "Класс **School** должен содержать следующую информацию: название или номер школы, адрес школы, номер телефона школы, электронный адрес учебного заведения, количество учеников, количество учителей, а также способы задания этой информации.\n",
    " \n",
    " \n",
    ">``` \n",
    "> s1 = School(name=\"NIS\", address=\"Astana, Kazakhstan\", phone=\"999999\", num_stud=1000, num_teachers=50)\n",
    "> ``` \n",
    "\n",
    "Список методов:\n",
    "> ```\n",
    "set_name()\n",
    "set_address()\n",
    "set_phone()\n",
    "set_email()\n",
    "set_num_stud()\n",
    "set_num_teachers()\n",
    "add_student()\n",
    "add_teacher()\n",
    "get_info() # возвращает словарь с информацией про школу без личной информации студентов / преподавателей\n",
    "get_report() # создает отчет (файл \"csv\") с информацией о школе и о каждом ученике, а также о преподавателе в этой школе. \n",
    "> ```\n",
    "\n",
    "**Пожалуйста, сделайте правильный формат файла CSV (который вы считаете наиболее понятным)**\n",
    "\n",
    "* При непосредственном запуске модуля **organizations** напрямую должен отображаться список классов, а также списки методов соответствующих классов, приведенных в модуле.\n",
    "\n",
    "* Когда вы импортируете модуль, он должен показать, что модуль был успешно импортирован.\n",
    "\n",
    "---"
   ]
  },
  {
   "cell_type": "markdown",
   "metadata": {},
   "source": [
    "### Что делать в jupyter notebook?\n",
    "\n",
    "В этом jupyter notebook, пожалуйста, проверьте все функциональные возможности вашего пакета. Как минимум создайте 2-3 школы, в каждой школе должно быть не менее 10 учеников (с разной информацией), а также как минимум 2 учителя разных предметов и личной информации. **Личная информация этих учеников, учителей и школ не должна быть правдивой (просто выдумайте).**\n",
    "\n",
    "**Пожалуйста, заархивируйте пакет и данный jupyter notebook вместе и отправьте архивный файл.**"
   ]
  },
  {
   "cell_type": "code",
   "execution_count": 1,
   "metadata": {},
   "outputs": [],
   "source": [
    "# Ваш код: let's go!"
   ]
  },
  {
   "cell_type": "code",
   "execution_count": 2,
   "metadata": {},
   "outputs": [
    {
     "name": "stdout",
     "output_type": "stream",
     "text": [
      "__init__.py\n",
      "__main__.py\n",
      "__pycache__\n",
      "organizations.py\n",
      "users.py\n"
     ]
    }
   ],
   "source": [
    "! ls education"
   ]
  },
  {
   "cell_type": "code",
   "execution_count": 3,
   "metadata": {},
   "outputs": [
    {
     "name": "stdout",
     "output_type": "stream",
     "text": [
      "Package education contains the following modules: users, organizations.\n"
     ]
    }
   ],
   "source": [
    "! python education"
   ]
  },
  {
   "cell_type": "code",
   "execution_count": 4,
   "metadata": {},
   "outputs": [
    {
     "name": "stdout",
     "output_type": "stream",
     "text": [
      "Module organizations contains the following classes with methods:\n",
      "School: add_student, add_teacher, get_info, get_report, set_address, set_email, set_name, set_num_stud, set_num_teachers, set_phone\n"
     ]
    }
   ],
   "source": [
    "! python education\\organizations.py"
   ]
  },
  {
   "cell_type": "code",
   "execution_count": 5,
   "metadata": {},
   "outputs": [
    {
     "name": "stdout",
     "output_type": "stream",
     "text": [
      "Module users contains the following classes with its methods:\n",
      "Human: get_info, set_age, set_family, set_gender, set_name, set_nationality\n",
      "Student: add_subject, get_info, get_student, set_age, set_family, set_gender, set_name, set_nationality, set_school\n",
      "Teacher: add_subject, get_info, get_teacher, set_age, set_family, set_gender, set_name, set_nationality, set_school\n"
     ]
    }
   ],
   "source": [
    "! python education\\users.py"
   ]
  },
  {
   "cell_type": "code",
   "execution_count": 6,
   "metadata": {},
   "outputs": [
    {
     "name": "stdout",
     "output_type": "stream",
     "text": [
      "Module users is successfully imported\n",
      "Module organizations is successfully imported\n"
     ]
    }
   ],
   "source": [
    "from education import users, organizations"
   ]
  },
  {
   "cell_type": "code",
   "execution_count": 7,
   "metadata": {},
   "outputs": [],
   "source": [
    "import random"
   ]
  },
  {
   "cell_type": "markdown",
   "metadata": {},
   "source": [
    "Создаем информацию максимально приближенным к реальности способом - ручным. Рандомно разбросанные имена, фамилии с неугаданным гендером и нацией не вдохновляют. Будем работать с учениками пяти школ магии, расположенных по всему миру."
   ]
  },
  {
   "cell_type": "code",
   "execution_count": 8,
   "metadata": {},
   "outputs": [],
   "source": [
    "school_data = [('Hogwarts', 'Great Britain'), ('Beauxbatons', 'France'), ('Koldovstoretz', 'Russia'),\n",
    "               ('Ilvermorny', 'USA'), ('Mahoutokoro', 'Japan'), ]"
   ]
  },
  {
   "cell_type": "code",
   "execution_count": 9,
   "metadata": {},
   "outputs": [],
   "source": [
    "teacher_data = [('Severus', 'Snape', 36, 'M', 'British', 'Hogwarts'),\n",
    "                ('Minerva', 'McGonagall', 61, 'F', 'Scottish', 'Hogwarts'),\n",
    "                ('Olympe', 'Maxime', 35, 'F', 'French', 'Beauxbatons'),\n",
    "                ('Lubomir', 'Velikiy', 72, 'M', 'Russian', 'Koldovstoretz'),\n",
    "                ('Alisa', 'Bulgakova', 37, 'F', 'Russian', 'Koldovstoretz'),\n",
    "                ('Rionach', 'Steward', 43, 'F', 'American', 'Ilvermorny'),\n",
    "                ('Eulalie', 'Hicks', 32, 'F', 'American', 'Ilvermorny'),\n",
    "                ('Kazuhiro', 'Shiratori', 68, 'M', 'Japanese', 'Mahoutokoro'),\n",
    "                ('Shintaro', 'Shingo', 46, 'M', 'Japanese', 'Mahoutokoro'), ]"
   ]
  },
  {
   "cell_type": "code",
   "execution_count": 10,
   "metadata": {},
   "outputs": [],
   "source": [
    "student_data = [('Harry', 'Potter', 14, 'M', 'British', 'Hogwarts'),\n",
    "                ('Hermione', 'Granger', 15, 'F', 'British', 'Hogwarts'),\n",
    "                ('Ron', 'Weasley', 14, 'M', 'Irish', 'Hogwarts'),\n",
    "                ('Draco', 'Malfoy', 14, 'M', 'British', 'Hogwarts'),\n",
    "                ('Luna', 'Lovegood', 14, 'F', 'British', 'Hogwarts'),\n",
    "                ('Neville', 'Longbottom', 14, 'M', 'British', 'Hogwarts'),\n",
    "                ('Ginny', 'Weasley', 14, 'F', 'Irish', 'Hogwarts'),\n",
    "                ('Fred', 'Weasley', 16, 'M', 'Irish', 'Hogwarts'),\n",
    "                ('George', 'Weasley', 16, 'M', 'Irish', 'Hogwarts'),\n",
    "                ('Penelope', 'Clearwater', 17, 'M', 'Irish', 'Hogwarts'),\n",
    "                ('Fleur', 'Delacour', 17, 'F', 'French', 'Beauxbatons'),\n",
    "                ('Gabrielle', 'Delacour', 12, \"F\", 'French', 'Beauxbatons'),\n",
    "                ('Luc', 'Millefeuille', 15, 'M', 'French', 'Beauxbatons'),\n",
    "                ('Aurelie', 'Dumont', 13, 'F', 'French', 'Beauxbatons'),\n",
    "                ('Davet', 'Dumont', 16, \"M\", 'French', 'Beauxbatons'),\n",
    "                ('Celine', 'Castillon', 14, \"F\", 'French', 'Beauxbatons'),\n",
    "                ('Bastien', 'Janvier', 14, \"M\", 'French', 'Beauxbatons'),\n",
    "                ('Mathis', 'Gage', 13, \"M\", 'French', 'Beauxbatons'),\n",
    "                ('Yuri', 'Blishenov', 16, 'M', 'Russian', 'Koldovstoretz'),\n",
    "                ('Petrova', 'Porskoff', 14, 'F', 'Russian', 'Koldovstoretz'),\n",
    "                ('Anastasia', 'Petrova', 14, 'F', 'Russian', 'Koldovstoretz'),\n",
    "                ('Dmitri', 'Ivanov', 16, 'M', 'Russian', 'Koldovstoretz'),\n",
    "                ('Elena', 'Sokolova', 15, 'F', 'Russian', 'Koldovstoretz'),\n",
    "                ('Ivan', 'Zhukov', 18, 'M', 'Russian', 'Koldovstoretz'),\n",
    "                ('Katerina', 'Mikhailova', 11, 'F', 'Russian', 'Koldovstoretz'),\n",
    "                ('Nikolai', 'Rogulenko', 13, 'M', 'Russian', 'Koldovstoretz'),\n",
    "                ('Olga', 'Popova', 12, 'F', 'Russian', 'Koldovstoretz'),\n",
    "                ('Sergei', 'Kuznetsov', 17, 'M', 'Russian', 'Koldovstoretz'),\n",
    "                ('Angelus', 'Peel', 15, 'M', 'Canadian', 'Ilvermorny'),\n",
    "                (\"Thornton\", \"Harkaway\", 16, \"M\", \"American\", \"Ilvermorny\"),\n",
    "                (\"Bella\", \"Smith\", 11, \"F\", \"American\", \"Ilvermorny\"),\n",
    "                (\"Charlie\", \"Jones\", 12, \"M\", \"British\", \"Ilvermorny\"),\n",
    "                (\"Daisy\", \"Williams\", 13, \"F\", \"Canadian\", \"Ilvermorny\"),\n",
    "                (\"Ethan\", \"Brown\", 14, \"M\", \"American\", \"Ilvermorny\"),\n",
    "                (\"Fiona\", \"Davis\", 15, \"F\", \"British\", \"Ilvermorny\"),\n",
    "                (\"Gemma\", \"Garcia\", 16, \"F\", \"Canadian\", \"Ilvermorny\"),\n",
    "                (\"Henry\", \"Rodriguez\", 17, \"M\", \"American\", \"Ilvermorny\"),\n",
    "                (\"Isabella\", \"Martinez\", 18, \"F\", \"British\", \"Ilvermorny\"),\n",
    "                ('Yoshi', 'Wakahisa', 17, 'M', 'Japanese', 'Mahoutokoro'),\n",
    "                ('Shizuka', 'Watanabe', 16, 'F', 'Japanese', 'Mahoutokoro'),\n",
    "                ('Tamotsu', 'Iwamoto', 13, 'M', 'Japanese', 'Mahoutokoro'),\n",
    "                ('Keiko', 'Takahashi', 12, 'F', 'Japanese', 'Mahoutokoro'),\n",
    "                ('Minaka', 'Hirakata', 15, 'F', 'Japanese', 'Mahoutokoro'),\n",
    "                ('Noriyuki', 'Sato', 18, 'M', 'Japanese', 'Mahoutokoro'),\n",
    "                ('Yoshihiro', 'Suzuki', 12, 'M', 'Japanese', 'Mahoutokoro'),\n",
    "                ('Ryuichi', 'Yamaguchi', 11, 'M', 'Japanese', 'Mahoutokoro'),\n",
    "                ('Noriko', 'Sato', 14, 'F', 'Japanese', 'Mahoutokoro'),\n",
    "                ('Masaki', 'Hongo', 17, 'M', 'Japanese', 'Mahoutokoro'), ]"
   ]
  },
  {
   "cell_type": "code",
   "execution_count": 11,
   "metadata": {},
   "outputs": [],
   "source": [
    "subjects_data = [\"Astronomy\", \"Charms\", \"Defense Against the Dark Arts\", \"Herbology\", \"History of Magic\", \"Potions\",\n",
    "                 \"Transfiguration\", \"Ancient Runes\", \"Care of Magical Creatures\", \"Divination\", \"Muggle Studies\"]"
   ]
  },
  {
   "cell_type": "markdown",
   "metadata": {},
   "source": [
    "На основе имеющихся данных создадим необходимые объекты: 5 школ, каждую из которых представляют 2 преподавателя и 10 избранных для участия в мировом турнире учеников."
   ]
  },
  {
   "cell_type": "code",
   "execution_count": 12,
   "metadata": {},
   "outputs": [],
   "source": [
    "schools = [organizations.School(name, address) for name, address in school_data]\n",
    "teachers = [users.Teacher(name, familyname, age, gender, nationality, school) for name, familyname, age, gender, nationality, school in teacher_data]\n",
    "students = [users.Student(name, familyname, age, gender, nationality, school) for name, familyname, age, gender, nationality, school in student_data]"
   ]
  },
  {
   "cell_type": "markdown",
   "metadata": {},
   "source": [
    "Добавим случайно выбранные предметы студентам и преподавателям, а потом все это к информации о школе."
   ]
  },
  {
   "cell_type": "code",
   "execution_count": 13,
   "metadata": {},
   "outputs": [],
   "source": [
    "for teacher in teachers:\n",
    "    teacher.add_subject(random.choice(subjects_data))\n",
    "\n",
    "for student in students:\n",
    "    while len(student.subjects) < 3:\n",
    "        if random.choice(subjects_data) not in student.subjects:\n",
    "            student.add_subject(random.choice(subjects_data))"
   ]
  },
  {
   "cell_type": "code",
   "execution_count": 14,
   "metadata": {},
   "outputs": [],
   "source": [
    "for school in schools:\n",
    "    school.set_phone(random.randint(797001, 797099))\n",
    "    school.set_email(school.get_info()[\"name\"].lower() + \"@magic.edu.com\")\n",
    "    for teacher in teachers:\n",
    "        if teacher.get_teacher()['school'] == school.get_info()['name']:\n",
    "            school.add_teacher(teacher.get_teacher())\n",
    "    for student in students:\n",
    "        if student.get_student()['school'] == school.get_info()['name']:\n",
    "            school.add_student(student.get_student())"
   ]
  },
  {
   "cell_type": "markdown",
   "metadata": {},
   "source": [
    "Запросим информацию о школах, чтобы убедиться в ее корректности. Все верно, недостающие 2 студента Шармбаттона с сопровождающим их преподавателем прибудут чуть позже."
   ]
  },
  {
   "cell_type": "code",
   "execution_count": 15,
   "metadata": {},
   "outputs": [
    {
     "name": "stdout",
     "output_type": "stream",
     "text": [
      "{'name': 'Hogwarts', 'address': 'Great Britain', 'phone': 797004, 'email': 'hogwarts@magic.edu.com', 'num_stud': 10, 'num_teachers': 2}\n",
      "{'name': 'Beauxbatons', 'address': 'France', 'phone': 797039, 'email': 'beauxbatons@magic.edu.com', 'num_stud': 8, 'num_teachers': 1}\n",
      "{'name': 'Koldovstoretz', 'address': 'Russia', 'phone': 797001, 'email': 'koldovstoretz@magic.edu.com', 'num_stud': 10, 'num_teachers': 2}\n",
      "{'name': 'Ilvermorny', 'address': 'USA', 'phone': 797035, 'email': 'ilvermorny@magic.edu.com', 'num_stud': 10, 'num_teachers': 2}\n",
      "{'name': 'Mahoutokoro', 'address': 'Japan', 'phone': 797040, 'email': 'mahoutokoro@magic.edu.com', 'num_stud': 10, 'num_teachers': 2}\n"
     ]
    }
   ],
   "source": [
    "for school in schools:\n",
    "    print(school.get_info())"
   ]
  },
  {
   "cell_type": "code",
   "execution_count": 16,
   "metadata": {},
   "outputs": [
    {
     "name": "stdout",
     "output_type": "stream",
     "text": [
      "Mahoutokoro is a Wizarding school located in Japan.\n",
      "\n",
      "Delegation: \n",
      "Professor of Ancient Runes: Kazuhiro Shiratori\n",
      "Professor of Astronomy: Shintaro Shingo\n",
      "\n",
      "Students: \n",
      "Yoshi Wakahisa, 17 y.o.\n",
      "Shizuka Watanabe, 16 y.o.\n",
      "Tamotsu Iwamoto, 13 y.o.\n",
      "Keiko Takahashi, 12 y.o.\n",
      "Minaka Hirakata, 15 y.o.\n",
      "Noriyuki Sato, 18 y.o.\n",
      "Yoshihiro Suzuki, 12 y.o.\n",
      "Ryuichi Yamaguchi, 11 y.o.\n",
      "Noriko Sato, 14 y.o.\n",
      "Masaki Hongo, 17 y.o.\n"
     ]
    }
   ],
   "source": [
    "for school in schools:\n",
    "    if school.get_info()['name'] == 'Mahoutokoro':\n",
    "        print(f\"{school.get_info()['name']} is a Wizarding school located in {school.get_info()['address']}.\")\n",
    "        print(f\"\\nDelegation: \")\n",
    "        for teacher in school.teachers:\n",
    "            print(f\"Professor of {''.join(teacher['subjects'])}: {teacher['name']} {teacher['familyname']}\")\n",
    "        print(f\"\\nStudents: \") \n",
    "        for student in school.students:\n",
    "            print(f\"{student['name']} {student['familyname']}, {student['age']} y.o.\")"
   ]
  },
  {
   "cell_type": "markdown",
   "metadata": {},
   "source": [
    "Создаем отчет для каждой школы с полной информацией о школе, ее преподавателях и учениках."
   ]
  },
  {
   "cell_type": "code",
   "execution_count": 17,
   "metadata": {},
   "outputs": [],
   "source": [
    "for school in schools:\n",
    "    school.get_report()"
   ]
  },
  {
   "cell_type": "markdown",
   "metadata": {},
   "source": [
    "И откроем, например, отчет по Колдовсторцу. Именно в нем учились бы мы, маги из Казахстана. Теперь понятно, почему никому так и не прилетела сова из Хогварста :с"
   ]
  },
  {
   "cell_type": "code",
   "execution_count": 18,
   "metadata": {},
   "outputs": [],
   "source": [
    "import csv"
   ]
  },
  {
   "cell_type": "code",
   "execution_count": 19,
   "metadata": {},
   "outputs": [
    {
     "name": "stdout",
     "output_type": "stream",
     "text": [
      "['SCHOOL INFORMATION']\n",
      "['name', 'address', 'phone', 'email', 'num_stud', 'num_teachers']\n",
      "['Koldovstoretz', 'Russia', '797001', 'koldovstoretz@magic.edu.com', '10', '2']\n",
      "['TEACHERS']\n",
      "['name', 'familyname', 'age', 'gender', 'nationality', 'school', 'subjects']\n",
      "['Lubomir', 'Velikiy', '72', 'M', 'Russian', 'Koldovstoretz', \"['Care of Magical Creatures']\"]\n",
      "['Alisa', 'Bulgakova', '37', 'F', 'Russian', 'Koldovstoretz', \"['Herbology']\"]\n",
      "['LIST OF STUDENTS']\n",
      "['name', 'familyname', 'age', 'gender', 'nationality', 'school', 'subjects']\n",
      "['Yuri', 'Blishenov', '16', 'M', 'Russian', 'Koldovstoretz', \"['History of Magic', 'History of Magic', 'Herbology']\"]\n",
      "['Petrova', 'Porskoff', '14', 'F', 'Russian', 'Koldovstoretz', \"['Muggle Studies', 'History of Magic', 'Defense Against the Dark Arts']\"]\n",
      "['Anastasia', 'Petrova', '14', 'F', 'Russian', 'Koldovstoretz', \"['Muggle Studies', 'Charms', 'History of Magic']\"]\n",
      "['Dmitri', 'Ivanov', '16', 'M', 'Russian', 'Koldovstoretz', \"['Transfiguration', 'Potions', 'Herbology']\"]\n",
      "['Elena', 'Sokolova', '15', 'F', 'Russian', 'Koldovstoretz', \"['History of Magic', 'Defense Against the Dark Arts', 'Care of Magical Creatures']\"]\n",
      "['Ivan', 'Zhukov', '18', 'M', 'Russian', 'Koldovstoretz', \"['History of Magic', 'Transfiguration', 'Muggle Studies']\"]\n",
      "['Katerina', 'Mikhailova', '11', 'F', 'Russian', 'Koldovstoretz', \"['Charms', 'Ancient Runes', 'Care of Magical Creatures']\"]\n",
      "['Nikolai', 'Rogulenko', '13', 'M', 'Russian', 'Koldovstoretz', \"['Care of Magical Creatures', 'Divination', 'History of Magic']\"]\n",
      "['Olga', 'Popova', '12', 'F', 'Russian', 'Koldovstoretz', \"['Potions', 'Astronomy', 'Defense Against the Dark Arts']\"]\n",
      "['Sergei', 'Kuznetsov', '17', 'M', 'Russian', 'Koldovstoretz', \"['Potions', 'Care of Magical Creatures', 'Ancient Runes']\"]\n"
     ]
    }
   ],
   "source": [
    "with open('Koldovstoretz_report.csv', 'r') as file:\n",
    "    data = csv.reader(file)\n",
    "\n",
    "    for line in data:\n",
    "        print(line)"
   ]
  },
  {
   "cell_type": "markdown",
   "metadata": {},
   "source": [
    "Выглядит примерно так, попробуем заменить участника и создать обновленный отчет. У нас есть ученица Petrova Porskoff с фамилией вместо имени. Западные писатели, включая Роулинг, почему-то думают, что Петрова - это женское имя. Из-за этой ошибки студентка пришла в русскую адаптацию книги как парень Петр. Так и запишем."
   ]
  },
  {
   "cell_type": "code",
   "execution_count": 20,
   "metadata": {},
   "outputs": [
    {
     "name": "stdout",
     "output_type": "stream",
     "text": [
      "{'name': 'Petr', 'familyname': 'Porskoff', 'age': 14, 'gender': 'M', 'nationality': 'Russian', 'school': 'Koldovstoretz', 'subjects': ['Muggle Studies', 'History of Magic', 'Defense Against the Dark Arts']}\n"
     ]
    }
   ],
   "source": [
    "for school in schools:\n",
    "    if school.get_info()['name'] == 'Koldovstoretz':\n",
    "        for student in school.students:\n",
    "            if student['name'] == 'Petrova':\n",
    "                student['name'] = 'Petr'\n",
    "                student['gender'] = 'M'\n",
    "                \n",
    "                print(student)\n",
    "                \n",
    "        school.get_report()"
   ]
  },
  {
   "cell_type": "markdown",
   "metadata": {},
   "source": [
    "Изменим и изначальный список, чтобы нигде не осталось ложной информации. "
   ]
  },
  {
   "cell_type": "code",
   "execution_count": 21,
   "metadata": {},
   "outputs": [
    {
     "name": "stdout",
     "output_type": "stream",
     "text": [
      "{'name': 'Petr', 'familyname': 'Porskoff', 'age': 14, 'gender': 'M', 'nationality': 'Russian', 'school': 'Koldovstoretz', 'subjects': ['Muggle Studies', 'History of Magic', 'Defense Against the Dark Arts']}\n"
     ]
    }
   ],
   "source": [
    "for student in students:\n",
    "    if student.get_student()['name'] == 'Petrova':\n",
    "        student.set_name('Petr')\n",
    "        student.set_gender('M')\n",
    "        \n",
    "        print(student.get_student())"
   ]
  },
  {
   "cell_type": "code",
   "execution_count": 22,
   "metadata": {},
   "outputs": [
    {
     "name": "stdout",
     "output_type": "stream",
     "text": [
      "['SCHOOL INFORMATION']\n",
      "['name', 'address', 'phone', 'email', 'num_stud', 'num_teachers']\n",
      "['Koldovstoretz', 'Russia', '797001', 'koldovstoretz@magic.edu.com', '10', '2']\n",
      "['TEACHERS']\n",
      "['name', 'familyname', 'age', 'gender', 'nationality', 'school', 'subjects']\n",
      "['Lubomir', 'Velikiy', '72', 'M', 'Russian', 'Koldovstoretz', \"['Care of Magical Creatures']\"]\n",
      "['Alisa', 'Bulgakova', '37', 'F', 'Russian', 'Koldovstoretz', \"['Herbology']\"]\n",
      "['LIST OF STUDENTS']\n",
      "['name', 'familyname', 'age', 'gender', 'nationality', 'school', 'subjects']\n",
      "['Yuri', 'Blishenov', '16', 'M', 'Russian', 'Koldovstoretz', \"['History of Magic', 'History of Magic', 'Herbology']\"]\n",
      "['Petr', 'Porskoff', '14', 'M', 'Russian', 'Koldovstoretz', \"['Muggle Studies', 'History of Magic', 'Defense Against the Dark Arts']\"]\n",
      "['Anastasia', 'Petrova', '14', 'F', 'Russian', 'Koldovstoretz', \"['Muggle Studies', 'Charms', 'History of Magic']\"]\n",
      "['Dmitri', 'Ivanov', '16', 'M', 'Russian', 'Koldovstoretz', \"['Transfiguration', 'Potions', 'Herbology']\"]\n",
      "['Elena', 'Sokolova', '15', 'F', 'Russian', 'Koldovstoretz', \"['History of Magic', 'Defense Against the Dark Arts', 'Care of Magical Creatures']\"]\n",
      "['Ivan', 'Zhukov', '18', 'M', 'Russian', 'Koldovstoretz', \"['History of Magic', 'Transfiguration', 'Muggle Studies']\"]\n",
      "['Katerina', 'Mikhailova', '11', 'F', 'Russian', 'Koldovstoretz', \"['Charms', 'Ancient Runes', 'Care of Magical Creatures']\"]\n",
      "['Nikolai', 'Rogulenko', '13', 'M', 'Russian', 'Koldovstoretz', \"['Care of Magical Creatures', 'Divination', 'History of Magic']\"]\n",
      "['Olga', 'Popova', '12', 'F', 'Russian', 'Koldovstoretz', \"['Potions', 'Astronomy', 'Defense Against the Dark Arts']\"]\n",
      "['Sergei', 'Kuznetsov', '17', 'M', 'Russian', 'Koldovstoretz', \"['Potions', 'Care of Magical Creatures', 'Ancient Runes']\"]\n"
     ]
    }
   ],
   "source": [
    "with open('Koldovstoretz_report.csv', 'r') as file:\n",
    "    data = csv.reader(file)\n",
    "\n",
    "    for line in data:\n",
    "        print(line)"
   ]
  },
  {
   "cell_type": "markdown",
   "metadata": {},
   "source": [
    "Изменения успешно внесены! Поступила информация о прибывающих студентах из Шармбаттона, добавим их в общий список в виде новосозданных соответсвующих объектов."
   ]
  },
  {
   "cell_type": "code",
   "execution_count": 23,
   "metadata": {},
   "outputs": [],
   "source": [
    "teachers.append(users.Teacher('Genevieve', 'Duval', 45, 'F', 'French', 'Beauxbatons', ['Potions']))\n",
    "\n",
    "students.append(users.Student('Isabelle', 'Lefevre', 17, 'F', 'French', 'Beauxbatons', ['Divination', 'History of Magic', 'Transfiguration']))\n",
    "students.append(users.Student('Antoine', 'Dubois', 16, 'M', 'French', 'Beauxbatons', ['History of Magic', 'Care of Magical Creatures', 'Herbology']))"
   ]
  },
  {
   "cell_type": "markdown",
   "metadata": {},
   "source": [
    "А затем обновим информацию о школе и отчет. Таким же образом можно будет одним циклом добавлять новых участников ко всем школам."
   ]
  },
  {
   "cell_type": "code",
   "execution_count": 24,
   "metadata": {},
   "outputs": [
    {
     "name": "stdout",
     "output_type": "stream",
     "text": [
      "Now we have 2 teachers and 10 students from Beauxbatons:\n",
      "\n",
      "Professor of Charms: Olympe Maxime\n",
      "Professor of Potions: Genevieve Duval\n",
      "\n",
      "Students: \n",
      "Fleur Delacour, 17 y.o.\n",
      "Gabrielle Delacour, 12 y.o.\n",
      "Luc Millefeuille, 15 y.o.\n",
      "Aurelie Dumont, 13 y.o.\n",
      "Davet Dumont, 16 y.o.\n",
      "Celine Castillon, 14 y.o.\n",
      "Bastien Janvier, 14 y.o.\n",
      "Mathis Gage, 13 y.o.\n",
      "Isabelle Lefevre, 17 y.o.\n",
      "Antoine Dubois, 16 y.o.\n"
     ]
    }
   ],
   "source": [
    "for school in schools:\n",
    "    if school.get_info()['name'] == 'Beauxbatons':\n",
    "        for teacher in teachers:\n",
    "            if teacher.get_teacher()['school'] == school.get_info()['name'] and teacher.get_teacher() not in school.teachers:\n",
    "                school.add_teacher(teacher.get_teacher())\n",
    "        for student in students:\n",
    "            if student.get_student()['school'] == school.get_info()['name'] and student.get_student() not in school.students:\n",
    "                school.add_student(student.get_student())\n",
    "        school.get_report()\n",
    "                \n",
    "        print(f\"Now we have {school.get_info()['num_teachers']} teachers and {school.get_info()['num_stud']} students from {school.get_info()['name']}:\\n\")\n",
    "        for teacher in school.teachers:\n",
    "            print(f\"Professor of {''.join(teacher['subjects'])}: {teacher['name']} {teacher['familyname']}\")\n",
    "        print(f\"\\nStudents: \") \n",
    "        for student in school.students:\n",
    "            print(f\"{student['name']} {student['familyname']}, {student['age']} y.o.\")"
   ]
  },
  {
   "cell_type": "markdown",
   "metadata": {},
   "source": [
    "Теперь, когда все участники в сборе, Кубок Огня случайным образом выберет из каждой школы двух участников: для турнира юниоров (11-14 лет) и турнира сеньеров (15-18 лет). Турнир состоит из 4 раундов, по итогу каждого из которых выбывает участник, накопивший меньше всего баллов. "
   ]
  },
  {
   "cell_type": "code",
   "execution_count": 25,
   "metadata": {},
   "outputs": [],
   "source": [
    "juniors, seniors = [], []\n",
    "for school in schools:\n",
    "    juniors.append(random.choice([student for student in school.students if student['age'] <= 14]))\n",
    "    seniors.append(random.choice([student for student in school.students if student['age'] >= 15]))"
   ]
  },
  {
   "cell_type": "code",
   "execution_count": 26,
   "metadata": {},
   "outputs": [
    {
     "name": "stdout",
     "output_type": "stream",
     "text": [
      "Let the Junior Tournament begin!\n",
      "\n",
      "Round 1\n",
      "\n",
      "Scoreboard:\n",
      "Ginny Weasley, F14 | 9\n",
      "Celine Castillon, F14 | 18\n",
      "Anastasia Petrova, F14 | 12\n",
      "Ethan Brown, M14 | 19\n",
      "Yoshihiro Suzuki, M12 | 18\n",
      "\n",
      "Excluded participant: Ginny Weasley \n",
      "________________________________________\n",
      "\n",
      "Round 2\n",
      "\n",
      "Scoreboard:\n",
      "Celine Castillon, F14 | 31\n",
      "Anastasia Petrova, F14 | 18\n",
      "Ethan Brown, M14 | 28\n",
      "Yoshihiro Suzuki, M12 | 26\n",
      "\n",
      "Excluded participant: Anastasia Petrova \n",
      "________________________________________\n",
      "\n",
      "Round 3\n",
      "\n",
      "Scoreboard:\n",
      "Celine Castillon, F14 | 52\n",
      "Ethan Brown, M14 | 41\n",
      "Yoshihiro Suzuki, M12 | 32\n",
      "\n",
      "Excluded participant: Yoshihiro Suzuki \n",
      "________________________________________\n",
      "\n",
      "Round 4\n",
      "\n",
      "Scoreboard:\n",
      "Celine Castillon, F14 | 75\n",
      "Ethan Brown, M14 | 55\n",
      "\n",
      "Excluded participant: Ethan Brown \n",
      "________________________________________\n",
      "\n",
      "Junior Winner: CELINE CASTILLON from Beauxbatons\n"
     ]
    }
   ],
   "source": [
    "print(f\"Let the Junior Tournament begin!\")\n",
    "\n",
    "i = 0\n",
    "scores = [0, 0, 0, 0, 0]\n",
    "while len(juniors) > 1:\n",
    "    i += 1\n",
    "    print(f\"\\nRound {i}\\n\\nScoreboard:\")\n",
    "    for j in range(len(juniors)):\n",
    "        scores[j] += random.randint(5, 25)\n",
    "        print(f\"{juniors[j]['name']} {juniors[j]['familyname']}, {juniors[j]['gender']}{juniors[j]['age']} | {scores[j]}\")\n",
    "    ex = juniors.pop(scores.index(min(scores)))\n",
    "    scores.remove(min(scores))\n",
    "    print(f\"\\nExcluded participant: {ex['name']} {ex['familyname']} \\n________________________________________\")\n",
    "    \n",
    "print(f\"\\nJunior Winner: {juniors[0]['name'].upper()} {juniors[0]['familyname'].upper()} from {juniors[0]['school']}\")"
   ]
  },
  {
   "cell_type": "code",
   "execution_count": 27,
   "metadata": {},
   "outputs": [
    {
     "name": "stdout",
     "output_type": "stream",
     "text": [
      "Let the Senior Tournament begin!\n",
      "\n",
      "Round 1\n",
      "\n",
      "Scoreboard:\n",
      "Fred Weasley, M16 | 14\n",
      "Luc Millefeuille, M15 | 12\n",
      "Sergei Kuznetsov, M17 | 22\n",
      "Henry Rodriguez, M17 | 11\n",
      "Shizuka Watanabe, F16 | 16\n",
      "\n",
      "Excluded participant: Henry Rodriguez \n",
      "________________________________________\n",
      "\n",
      "Round 2\n",
      "\n",
      "Scoreboard:\n",
      "Fred Weasley, M16 | 28\n",
      "Luc Millefeuille, M15 | 28\n",
      "Sergei Kuznetsov, M17 | 46\n",
      "Shizuka Watanabe, F16 | 36\n",
      "\n",
      "Excluded participant: Fred Weasley \n",
      "________________________________________\n",
      "\n",
      "Round 3\n",
      "\n",
      "Scoreboard:\n",
      "Luc Millefeuille, M15 | 33\n",
      "Sergei Kuznetsov, M17 | 51\n",
      "Shizuka Watanabe, F16 | 58\n",
      "\n",
      "Excluded participant: Luc Millefeuille \n",
      "________________________________________\n",
      "\n",
      "Round 4\n",
      "\n",
      "Scoreboard:\n",
      "Sergei Kuznetsov, M17 | 59\n",
      "Shizuka Watanabe, F16 | 76\n",
      "\n",
      "Excluded participant: Sergei Kuznetsov \n",
      "________________________________________\n",
      "\n",
      "Senior Winner: SHIZUKA WATANABE from Mahoutokoro\n"
     ]
    }
   ],
   "source": [
    "print(f\"Let the Senior Tournament begin!\")\n",
    "\n",
    "i = 0\n",
    "scores = [0, 0, 0, 0, 0]\n",
    "while len(seniors) > 1:\n",
    "    i += 1\n",
    "    print(f\"\\nRound {i}\\n\\nScoreboard:\")\n",
    "    for j in range(len(seniors)):\n",
    "        scores[j] += random.randint(5, 25)\n",
    "        print(f\"{seniors[j]['name']} {seniors[j]['familyname']}, {seniors[j]['gender']}{seniors[j]['age']} | {scores[j]}\")\n",
    "    ex = seniors.pop(scores.index(min(scores)))\n",
    "    scores.remove(min(scores))\n",
    "    print(f\"\\nExcluded participant: {ex['name']} {ex['familyname']} \\n________________________________________\")\n",
    "    \n",
    "print(f\"\\nSenior Winner: {seniors[0]['name'].upper()} {seniors[0]['familyname'].upper()} from {seniors[0]['school']}\")"
   ]
  },
  {
   "cell_type": "markdown",
   "metadata": {},
   "source": [
    "THE END"
   ]
  }
 ],
 "metadata": {
  "kernelspec": {
   "display_name": "Python 3 (ipykernel)",
   "language": "python",
   "name": "python3"
  },
  "language_info": {
   "codemirror_mode": {
    "name": "ipython",
    "version": 3
   },
   "file_extension": ".py",
   "mimetype": "text/x-python",
   "name": "python",
   "nbconvert_exporter": "python",
   "pygments_lexer": "ipython3",
   "version": "3.10.9"
  }
 },
 "nbformat": 4,
 "nbformat_minor": 2
}
